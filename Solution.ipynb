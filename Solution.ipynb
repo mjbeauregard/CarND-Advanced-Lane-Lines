{
 "cells": [
  {
   "cell_type": "markdown",
   "metadata": {},
   "source": [
    "# Camera Calibration"
   ]
  },
  {
   "cell_type": "code",
   "execution_count": null,
   "metadata": {
    "collapsed": false
   },
   "outputs": [],
   "source": [
    "import numpy as np\n",
    "import cv2\n",
    "import glob\n",
    "import matplotlib.pyplot as plt\n",
    "%matplotlib inline\n",
    "\n",
    "class Camera():\n",
    "    def __init__(self):\n",
    "        self.cameraMatrix = None\n",
    "        self.distCoeffs = None\n",
    "        self.rvecs = None\n",
    "        self.tvecs = None\n",
    "    \n",
    "    def calibrate(self, images, board_x, board_y):\n",
    "        board_size = (board_x, board_y)\n",
    "        print(\"Calibrating camera with board size {}...\".format(board_size))\n",
    "\n",
    "        # prepare object points, like (0,0,0), (1,0,0), (2,0,0) ....,(6,5,0)\n",
    "        objp = np.zeros((board_x * board_y, 3), np.float32)\n",
    "        objp[:,:2] = np.mgrid[0:board_x, 0:board_y].T.reshape(-1,2)\n",
    "\n",
    "        # Arrays to store object points and image points from all the images.\n",
    "        objpoints = [] # 3d points in real world space\n",
    "        imgpoints = [] # 2d points in image plane.\n",
    "\n",
    "        # Step through the list and search for chessboard corners\n",
    "        for idx, fname in enumerate(images):\n",
    "            img = cv2.imread(fname)\n",
    "            gray = cv2.cvtColor(img, cv2.COLOR_BGR2GRAY)\n",
    "\n",
    "            # Find the chessboard corners\n",
    "            ret, corners = cv2.findChessboardCorners(gray, board_size, None)\n",
    "\n",
    "            # If found, add object points, image points\n",
    "            if ret == True:\n",
    "                objpoints.append(objp)\n",
    "                imgpoints.append(corners)\n",
    "\n",
    "        shape = img.shape[0:2]\n",
    "        retval, self.cameraMatrix, self.distCoeffs, self.rvecs, self.tvecs = cv2.calibrateCamera(objpoints, imgpoints, shape, None, None)\n",
    "        return retval\n",
    "        \n",
    "# Make a list of calibration images\n",
    "images = glob.glob('camera_cal/cal*.jpg')\n",
    "\n",
    "camera = Camera()\n",
    "camera.calibrate(images, 9, 6)\n"
   ]
  },
  {
   "cell_type": "code",
   "execution_count": null,
   "metadata": {
    "collapsed": true
   },
   "outputs": [],
   "source": []
  }
 ],
 "metadata": {
  "kernelspec": {
   "display_name": "Python 3",
   "language": "python",
   "name": "python3"
  },
  "language_info": {
   "codemirror_mode": {
    "name": "ipython",
    "version": 3
   },
   "file_extension": ".py",
   "mimetype": "text/x-python",
   "name": "python",
   "nbconvert_exporter": "python",
   "pygments_lexer": "ipython3",
   "version": "3.5.2"
  },
  "widgets": {
   "state": {},
   "version": "1.1.2"
  }
 },
 "nbformat": 4,
 "nbformat_minor": 2
}
